{
  "nbformat": 4,
  "nbformat_minor": 0,
  "metadata": {
    "colab": {
      "provenance": [],
      "authorship_tag": "ABX9TyPAn1ozWWq4JiekUD/F79Vq",
      "include_colab_link": true
    },
    "kernelspec": {
      "name": "python3",
      "display_name": "Python 3"
    },
    "language_info": {
      "name": "python"
    }
  },
  "cells": [
    {
      "cell_type": "markdown",
      "metadata": {
        "id": "view-in-github",
        "colab_type": "text"
      },
      "source": [
        "<a href=\"https://colab.research.google.com/github/Luke-687/Chemotaxis-Project-With-RL/blob/main/RandomMotion.ipynb\" target=\"_parent\"><img src=\"https://colab.research.google.com/assets/colab-badge.svg\" alt=\"Open In Colab\"/></a>"
      ]
    },
    {
      "cell_type": "code",
      "source": [
        "import matplotlib.pyplot as plt\n",
        "import random\n",
        "#import numpy as np"
      ],
      "metadata": {
        "id": "dsZGfCbdhSTB"
      },
      "execution_count": 352,
      "outputs": []
    },
    {
      "cell_type": "code",
      "source": [
        "class Swimmer:\n",
        "  state = []\n",
        "  action = []\n",
        "  position = [[0],[0]]\n",
        "  def __init__ (self, isaction, isstate):\n",
        "    self.action = isaction\n",
        "    self.state = isstate"
      ],
      "metadata": {
        "id": "bAOlYik3F736"
      },
      "execution_count": 353,
      "outputs": []
    },
    {
      "cell_type": "code",
      "source": [
        "def optimize (obj):\n",
        "  #format the average value for each action, return the most appealing one\n",
        "  completeData = [[1,0],[2,0],[3,0],[4,0],[5,0],[6,0],[7,0],[8,0],[9,0]]\n",
        "  numCases = [0,0,0,0,0,0,0,0,0]\n",
        "  for i in range (0, len(completeData)):\n",
        "    for j in range (0, len(obj.action)):\n",
        "      if(completeData[i][0] == obj.action[j]):\n",
        "        completeData[i][1] += obj.state[j]\n",
        "        numCases[i] += 1\n",
        "  finalData = [[1,0],[2,0],[3,0],[4,0],[5,0],[6,0],[7,0],[8,0],[9,0]]\n",
        "  for i in range (0, len(numCases)):\n",
        "    if(numCases[i>>0]):\n",
        "      finalData[i][1] = (completeData[i][1]/numCases[i])\n",
        "  max = 0\n",
        "  maxion = 1\n",
        "  for i in range(0, len(finalData)):\n",
        "    if(finalData[i][1]>=max):\n",
        "      max = finalData[i][1]\n",
        "      maxion = i+1\n",
        "  setPosition(obj, maxion)\n",
        "  return maxion"
      ],
      "metadata": {
        "id": "87_AFKOtdGrI"
      },
      "execution_count": 354,
      "outputs": []
    },
    {
      "cell_type": "code",
      "source": [
        "\n",
        "def setPosition (obj, move):\n",
        "  if(random.random()<0.25):\n",
        "    move = random.randint(1,9)\n",
        "  addData(obj, move, random.randint(-2, 2))\n",
        "  if(move == 1):\n",
        "    obj.position[0].append(obj.position[0][-1] -1)\n",
        "    obj.position[1].append(obj.position[0][-1] +1)\n",
        "  elif(move ==2):\n",
        "    obj.position[0].append(obj.position[0][-1] -0)\n",
        "    obj.position[1].append(obj.position[0][-1] +1)\n",
        "  elif(move ==3):\n",
        "    obj.position[0].append(obj.position[0][-1] +1)\n",
        "    obj.position[1].append(obj.position[0][-1] +1)\n",
        "  elif(move==4):\n",
        "    obj.position[0].append(obj.position[0][-1] -1)\n",
        "    obj.position[1].append(obj.position[0][-1] +0)\n",
        "  elif(move==5):\n",
        "    obj.position[0].append(obj.position[0][-1] -0)\n",
        "    obj.position[1].append(obj.position[0][-1] +0)\n",
        "  elif(move==6):\n",
        "    obj.position[0].append(obj.position[0][-1] +1)\n",
        "    obj.position[1].append(obj.position[0][-1] +0)\n",
        "  elif(move==7):\n",
        "    obj.position[0].append(obj.position[0][-1] -1)\n",
        "    obj.position[1].append(obj.position[0][-1] -1)\n",
        "  elif(move==8):\n",
        "    obj.position[0].append(obj.position[0][-1] +0)\n",
        "    obj.position[1].append(obj.position[0][-1] -1)\n",
        "  elif(move==9):\n",
        "    obj.position[0].append(obj.position[0][-1] +1)\n",
        "    obj.position[1].append(obj.position[0][-1] -1)"
      ],
      "metadata": {
        "id": "O01U8uzHfLQP"
      },
      "execution_count": 355,
      "outputs": []
    },
    {
      "cell_type": "code",
      "source": [
        "def addData (obj, a, s):\n",
        "  obj.action.append(a)\n",
        "  obj.state.append(s)"
      ],
      "metadata": {
        "id": "h1UmmeClePi5"
      },
      "execution_count": 356,
      "outputs": []
    },
    {
      "cell_type": "code",
      "source": [
        "#Define object, position grapher, etc\n",
        "Example = Swimmer([],[])"
      ],
      "metadata": {
        "id": "jLcgRWc_Ie_Z"
      },
      "execution_count": 357,
      "outputs": []
    },
    {
      "cell_type": "code",
      "source": [
        "#simulate:\n",
        "for i in range(0,10):\n",
        "  addData(Example, random.randint(1, 9), random.randint(-9, 9))"
      ],
      "metadata": {
        "id": "UUIiSy84dSR0"
      },
      "execution_count": 358,
      "outputs": []
    },
    {
      "cell_type": "code",
      "source": [
        "#optimize:\n",
        "for i in range(0,100):\n",
        "  optimize(Example)"
      ],
      "metadata": {
        "id": "bGJwJCTulfEG"
      },
      "execution_count": 359,
      "outputs": []
    },
    {
      "cell_type": "code",
      "source": [
        "#graph:\n",
        "plt.plot(Example.position[0], Example.position[1])\n",
        "\n",
        "Xx = [-2,-1,0,1,2]\n",
        "Xy = [0,0,0,0,0]\n",
        "plt.plot(Xx,Xy, color = 'black')\n",
        "\n",
        "Yy = [-2,-1,0,1,2]\n",
        "Yx = [0,0,0,0,0]\n",
        "plt.plot(Yx,Yy, color = 'black')\n"
      ],
      "metadata": {
        "colab": {
          "base_uri": "https://localhost:8080/",
          "height": 447
        },
        "id": "jnQJj44qlg1o",
        "outputId": "1197326d-0b94-4af9-94c5-3d334dfca3bd"
      },
      "execution_count": 360,
      "outputs": [
        {
          "output_type": "execute_result",
          "data": {
            "text/plain": [
              "[<matplotlib.lines.Line2D at 0x794ec02ace10>]"
            ]
          },
          "metadata": {},
          "execution_count": 360
        },
        {
          "output_type": "display_data",
          "data": {
            "text/plain": [
              "<Figure size 640x480 with 1 Axes>"
            ],
            "image/png": "[encoded data removed]"
          },
          "metadata": {}
        }
      ]
    }
  ]
}